{
 "cells": [
  {
   "cell_type": "markdown",
   "id": "0fa00d43",
   "metadata": {},
   "source": [
    "# Foodnetwork \n",
    "\n",
    "### www.foodnetwork.com - a food recipe website with over 14,000 recipes.\n",
    "\n",
    "This notebook performs webscraping on the foodnetwork website to collect\n",
    "\n",
    "- Master Directory URLs of the Recipe Links\n",
    "- After having got the Master Directory, it scrapes the webpage URLs of all the Recipes\n"
   ]
  },
  {
   "cell_type": "code",
   "execution_count": null,
   "id": "a97917f9",
   "metadata": {},
   "outputs": [],
   "source": [
    "import time\n",
    "import requests\n",
    "import pandas as pd\n",
    "from bs4 import BeautifulSoup\n",
    "from urllib.parse import urljoin"
   ]
  },
  {
   "cell_type": "code",
   "execution_count": null,
   "id": "e2270027",
   "metadata": {},
   "outputs": [],
   "source": [
    "baseURL = 'https://www.foodnetwork.com/recipes/food-network-kitchen/'"
   ]
  },
  {
   "cell_type": "markdown",
   "id": "7feb22f0",
   "metadata": {},
   "source": [
    "#### Get the directories of the Food Network website - where all the recipes are stored"
   ]
  },
  {
   "cell_type": "code",
   "execution_count": null,
   "id": "800e6bcc",
   "metadata": {},
   "outputs": [],
   "source": [
    "start_time = time.time()\n",
    "\n",
    "recipeIndexes = ['123', 'a', 'b', 'c', 'd', 'e', 'f', 'g', 'h', 'i', 'j', 'k', 'l', 'm', 'n', 'o', 'p', 'q', 'r', 's', 't', 'u', 'v', 'w', 'xyz']\n",
    "foodNetwork_masterRecipe_indexLinks = []\n",
    "\n",
    "for index in recipeIndexes:\n",
    "    next_page = urljoin(baseURL, index)\n",
    "    for sub_page in range(1, 20):\n",
    "        final_page = urljoin(f'{next_page}/p/', str(sub_page))\n",
    "        response = requests.get(final_page)\n",
    "        if (str(response) == '<Response [200]>'):\n",
    "            foodNetwork_masterRecipe_indexLinks.append(final_page)\n",
    "        elif(str(response) == '<Response [404]>'):\n",
    "            break\n",
    "\n",
    "end_time = time.time()\n",
    "\n",
    "total_time = end_time - start_time\n",
    "print(f'Total Time Elapsed: {total_time} seconds')"
   ]
  },
  {
   "cell_type": "code",
   "execution_count": null,
   "id": "9ea75eaa",
   "metadata": {
    "scrolled": true
   },
   "outputs": [],
   "source": [
    "foodNetwork_masterDirectory_links_df = pd.DataFrame(foodNetwork_masterRecipe_indexLinks, columns = ['Recipe Directories'])\n",
    "foodNetwork_masterDirectory_links_df.to_csv('./foodNetworkMasterDirectoryLinks.csv', index = None)"
   ]
  },
  {
   "cell_type": "code",
   "execution_count": null,
   "id": "3032d727",
   "metadata": {},
   "outputs": [],
   "source": [
    "foodNetwork_masterDirectory_links_df.head()"
   ]
  },
  {
   "cell_type": "markdown",
   "id": "d9b229dc",
   "metadata": {},
   "source": [
    "#### Get all the recipes & their corresponding webpages - of the Food Network Website"
   ]
  },
  {
   "cell_type": "code",
   "execution_count": null,
   "id": "c1012a2f",
   "metadata": {},
   "outputs": [],
   "source": [
    "start_time = time.time()\n",
    "\n",
    "recipe_title_link = []\n",
    "\n",
    "for recipeDirectory_link in foodNetwork_masterDirectory_links_df['Recipe Directories']:\n",
    "    \n",
    "    url = recipeDirectory_link\n",
    "\n",
    "    response = requests.get(url)\n",
    "    html_content = response.text\n",
    "    doc = BeautifulSoup(html_content, 'html.parser')\n",
    "        \n",
    "    for recipeList_column in range(0, 2):\n",
    "\n",
    "        recipes = doc.find_all(\"ul\", class_=\"m-PromoList o-Capsule__m-PromoList\")[recipeList_column]\n",
    "        recipes = recipes.find_all(\"li\", class_='m-PromoList__a-ListItem')\n",
    "\n",
    "        for recipe in recipes:\n",
    "            recipeTitle = recipe.text.strip()\n",
    "            reciple_url = 'https:' + recipe.a['href']\n",
    "            recipe_title_link.append((recipeTitle, reciple_url))\n",
    "\n",
    "\n",
    "end_time = time.time()\n",
    "total_time_inSeconds = end_time - start_time\n",
    "print(f'Total time taken to get the links of all the recipes on Food Network: {total_time_inSeconds} seconds')"
   ]
  },
  {
   "cell_type": "code",
   "execution_count": null,
   "id": "3b6e47bd",
   "metadata": {},
   "outputs": [],
   "source": [
    "recipe_df = pd.DataFrame(recipe_title_link, columns = ['Recipe Title', 'Recipe Link'])\n",
    "recipe_df.index = range(1, len(recipe_df) + 1)\n",
    "recipe_df.to_csv('./foodNetworkRecipeLinks.csv', index = None)"
   ]
  }
 ],
 "metadata": {
  "kernelspec": {
   "display_name": "Python 3 (ipykernel)",
   "language": "python",
   "name": "python3"
  },
  "language_info": {
   "codemirror_mode": {
    "name": "ipython",
    "version": 3
   },
   "file_extension": ".py",
   "mimetype": "text/x-python",
   "name": "python",
   "nbconvert_exporter": "python",
   "pygments_lexer": "ipython3",
   "version": "3.10.9"
  }
 },
 "nbformat": 4,
 "nbformat_minor": 5
}
