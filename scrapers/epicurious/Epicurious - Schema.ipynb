{
 "cells": [
  {
   "cell_type": "markdown",
   "id": "545d5f7b",
   "metadata": {},
   "source": [
    "# Epicurious - Schema\n",
    "\n",
    "This notebook performs webscraping on the epicurious website to collect\n",
    "\n",
    "- AuthorName\n",
    "- Recipe Ingredients\n",
    "- Recipe Instructions\n",
    "\n",
    "and information regarding the\n",
    "\n",
    "- Recipe Title\n",
    "- Recipe Link\n",
    "- Average Rating of the Recipe\n",
    "- Total Number of Reviews for the Recipe \n",
    "\n",
    "has been collected while scraping the epicurious website's top rated recipe links.\n",
    "This information is retrieved from the *epicuriousTopRatedRecipeLinks.csv* file and is appended in the *get_allRecipeInformation(recipeIndex)* method."
   ]
  },
  {
   "cell_type": "code",
   "execution_count": null,
   "id": "b45238ed",
   "metadata": {},
   "outputs": [],
   "source": [
    "import re\n",
    "import time\n",
    "import csv\n",
    "import pandas as pd\n",
    "import requests\n",
    "from bs4 import BeautifulSoup"
   ]
  },
  {
   "cell_type": "markdown",
   "id": "47ed4ce6",
   "metadata": {},
   "source": [
    "#### Author Name"
   ]
  },
  {
   "cell_type": "code",
   "execution_count": null,
   "id": "83a7a059",
   "metadata": {},
   "outputs": [],
   "source": [
    "def get_authorName(doc):\n",
    "    try:\n",
    "        authorSection_tag = doc.find_all(\"div\", class_=\"SplitScreenContentHeaderTitleBlock-sCMXE jActCi\")[0]\n",
    "        authorName_tag = authorSection_tag.find_all(\"div\")[2]\n",
    "        authorName = authorName_tag.find(\"a\").text\n",
    "    except Exception as e:\n",
    "        authorName = ''\n",
    "        pass\n",
    "    return authorName"
   ]
  },
  {
   "cell_type": "markdown",
   "id": "9513e3ea",
   "metadata": {},
   "source": [
    "#### Recipe Ingredients"
   ]
  },
  {
   "cell_type": "code",
   "execution_count": null,
   "id": "17a73bcc",
   "metadata": {},
   "outputs": [],
   "source": [
    "def get_recipeIngredients(doc):\n",
    "    ingredients = []\n",
    "    try: \n",
    "        recipe_content_tag = doc.find_all(\"div\", class_=\"recipe__main-content\")[0]\n",
    "        ingredientList_tag = recipe_content_tag.find_all(\"div\", attrs={'data-testid': 'IngredientList'})[0]\n",
    "        recipeServings = ingredientList_tag.find(\"p\").text.strip()\n",
    "        ingredientList= ingredientList_tag.find(\"div\", class_=\"List-iSNGTT ljAYJm\")\n",
    "\n",
    "        ingredients = [recipeServings]\n",
    "\n",
    "        for ingredient in ingredientList:\n",
    "            ingredients.append(ingredient.text.strip())\n",
    "    except Exception as e:\n",
    "        pass\n",
    "\n",
    "    return ingredients"
   ]
  },
  {
   "cell_type": "markdown",
   "id": "76651292",
   "metadata": {},
   "source": [
    "#### Recipe Instructions"
   ]
  },
  {
   "cell_type": "markdown",
   "id": "5a5a002d",
   "metadata": {},
   "source": [
    "NOTE: Initialise instructions before assignment - it will throw error at times"
   ]
  },
  {
   "cell_type": "code",
   "execution_count": null,
   "id": "41518d75",
   "metadata": {},
   "outputs": [],
   "source": [
    "def get_recipeInstructions(doc):\n",
    "    instructions = []\n",
    "    try:\n",
    "        recipe_content_tag = doc.find_all(\"div\", class_=\"recipe__main-content\")[0]\n",
    "        instructions_tag = doc.find_all(\"div\", class_=\"InstructionsWrapper-hZXqPx RmryN\")[0]\n",
    "        instructionLists = instructions_tag.find_all(\"li\", class_=\"InstructionListWrapper-dcpygI kinFAs\")\n",
    "        \n",
    "        for instructionList in instructionLists:\n",
    "            for instruction in instructionList:\n",
    "                instructions.append(instruction.text)\n",
    "    except Exception as e:\n",
    "        pass\n",
    "    return instructions"
   ]
  },
  {
   "cell_type": "markdown",
   "id": "c2690040",
   "metadata": {},
   "source": [
    "#### Gather all the information of a recipe"
   ]
  },
  {
   "cell_type": "code",
   "execution_count": null,
   "id": "a985acfd",
   "metadata": {},
   "outputs": [],
   "source": [
    "def get_allRecipeInformation(recipeIndex):\n",
    "    recipeTitle = epicuriousRecipeLinks_df.loc[recipeIndex, 'Recipe Title']\n",
    "    recipeLink = epicuriousRecipeLinks_df.loc[recipeIndex, 'Recipe Link']\n",
    "    recipeAverageRating = epicuriousRecipeLinks_df.loc[recipeIndex, 'Recipe Average Rating']\n",
    "    recipeRatingCount = epicuriousRecipeLinks_df.loc[recipeIndex, 'Recipe Rating Count']\n",
    "    recipeIngredients = get_recipeIngredients(doc)\n",
    "    recipeSteps = get_recipeInstructions(doc)\n",
    "    recipeAuthor = get_authorName(doc)\n",
    "    \n",
    "    return ((recipeTitle, recipeLink, recipeAverageRating, recipeRatingCount, recipeIngredients, recipeSteps, recipeAuthor))"
   ]
  },
  {
   "cell_type": "code",
   "execution_count": null,
   "id": "92c9ab87",
   "metadata": {},
   "outputs": [],
   "source": [
    "columns = ['Recipe Title', 'Recipe Link', 'Recipe Average Rating', 'Recipe Rating Count', 'Ingredient (s)', 'Step (s)', 'Author']\n",
    "epicuriousTopRatedRecipeLinks_df = pd.read_csv('./epicuriousTopRatedRecipeLinks.csv')"
   ]
  },
  {
   "cell_type": "code",
   "execution_count": null,
   "id": "49253559",
   "metadata": {
    "scrolled": true
   },
   "outputs": [],
   "source": [
    "start_time = time.time()\n",
    "\n",
    "recipeDetails = []\n",
    "\n",
    "count = 0\n",
    "\n",
    "for recipeIndex, recipeLink in enumerate(epicuriousTopRatedRecipeLinks_df['Recipe Link']):\n",
    "    \n",
    "    url = recipeLink\n",
    "    \n",
    "    response = requests.get(url)\n",
    "    html_content = response.content\n",
    "    doc = BeautifulSoup(html_content, 'html.parser')\n",
    "    \n",
    "# #     suspend execution for 1 second\n",
    "#     time.sleep(1)\n",
    "\n",
    "    try:\n",
    "        recipeDetails.append(get_allRecipeInformation(recipeIndex))\n",
    "        \n",
    "        count += 1\n",
    "        print(f'Number of Recipes Scraped = {count}, Number of Recipe Links processed = {recipeIndex}')\n",
    "        \n",
    "        if((count % 25) == 0):\n",
    "            epicuriousTopRatedRecipes_df = pd.DataFrame(recipeDetails, columns=columns)\n",
    "            epicuriousTopRatedRecipes_df.to_csv('./epicuriousTopRatedRecipes.csv', encoding='utf-8', quoting=csv.QUOTE_ALL, index = None)\n",
    "        else:\n",
    "            continue\n",
    "            \n",
    "    except Exception as e:\n",
    "        print('Exception is - ', e)\n",
    "        pass\n",
    "    \n",
    "end_time = time.time()\n",
    "total_time = end_time - start_time\n",
    "\n",
    "print(f\"Total Time taken = {total_time} seconds\")"
   ]
  },
  {
   "cell_type": "code",
   "execution_count": null,
   "id": "07319c64",
   "metadata": {},
   "outputs": [],
   "source": [
    "epicuriousTopRatedRecipes_df = pd.DataFrame(recipeDetails, columns=columns)\n",
    "epicuriousTopRatedRecipes_df.to_csv('./epicuriousTopRatedRecipes.csv', encoding='utf-8', quoting=csv.QUOTE_ALL, index = None)"
   ]
  }
 ],
 "metadata": {
  "kernelspec": {
   "display_name": "Python 3 (ipykernel)",
   "language": "python",
   "name": "python3"
  },
  "language_info": {
   "codemirror_mode": {
    "name": "ipython",
    "version": 3
   },
   "file_extension": ".py",
   "mimetype": "text/x-python",
   "name": "python",
   "nbconvert_exporter": "python",
   "pygments_lexer": "ipython3",
   "version": "3.10.9"
  }
 },
 "nbformat": 4,
 "nbformat_minor": 5
}
