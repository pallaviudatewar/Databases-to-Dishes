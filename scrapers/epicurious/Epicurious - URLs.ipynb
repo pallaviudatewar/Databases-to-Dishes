{
 "cells": [
  {
   "cell_type": "markdown",
   "id": "24781f85",
   "metadata": {},
   "source": [
    "# Epicurious\n",
    "\n",
    "www.epicurious.com - a food recipe website with over 330,000+ recipes\n",
    "\n",
    "This notebook performs webscraping on epicurios website to collect - Most Reviewed Food recipes for over 900 webpages of top rated recipe lists\n",
    "\n",
    "- Recipe Title\n",
    "- Recipe Link\n",
    "- Average Rating of the Recipe\n",
    "- Total Number of Reviews for the Recipe\n",
    "\n",
    "Information regarding more recipes can be collected by changing the *numberOfPagesToCollect*"
   ]
  },
  {
   "cell_type": "code",
   "execution_count": null,
   "id": "8995dece",
   "metadata": {},
   "outputs": [],
   "source": [
    "import time\n",
    "import requests\n",
    "import pandas as pd\n",
    "from bs4 import BeautifulSoup\n",
    "from urllib.parse import urljoin"
   ]
  },
  {
   "cell_type": "code",
   "execution_count": null,
   "id": "0ca93785",
   "metadata": {},
   "outputs": [],
   "source": [
    "baseURL = 'https://www.epicurious.com/search/?sort=mostReviewed&page='\n",
    "epicuriousURL = 'https://epicurious.com'"
   ]
  },
  {
   "cell_type": "code",
   "execution_count": null,
   "id": "26d2efe9",
   "metadata": {},
   "outputs": [],
   "source": [
    "user_agent = 'Mozilla/5.0 (Macintosh; Intel Mac OS X 10_15_7) AppleWebKit/537.36 (KHTML, like Gecko) Chrome/114.0.0.0 Safari/537.36'\n",
    "headers = {\"User-Agent\": user_agent}"
   ]
  },
  {
   "cell_type": "code",
   "execution_count": null,
   "id": "829a2818",
   "metadata": {},
   "outputs": [],
   "source": [
    "numberOfPagesToCollect = input('Enter the count of the number of pages to collect the recipe lists on Epicurious: ')"
   ]
  },
  {
   "cell_type": "code",
   "execution_count": null,
   "id": "df9e2e6b",
   "metadata": {
    "scrolled": true
   },
   "outputs": [],
   "source": [
    "start_time = time.time()\n",
    "epicurious_recipe_title_link = []\n",
    "columns = ['Recipe Title', 'Recipe Link', 'Recipe Average Rating', 'Recipe Rating Count']        \n",
    "\n",
    "count = 1\n",
    "\n",
    "for page in range(1, numberOfPagesToCollect):\n",
    "    \n",
    "    response = requests.get(baseURL + f'{page}', headers = headers)\n",
    "    html_content = response.content\n",
    "    doc = BeautifulSoup(html_content, 'html.parser')\n",
    "    print(count)\n",
    "    \n",
    "    count += 1\n",
    "    \n",
    "    recipe_table_tags = doc.find_all(\"div\", class_=\"results-group\")[0]\n",
    "    page_one_recipes = recipe_table_tags.find_all(\"article\", class_=\"recipe-content-card\")\n",
    "    \n",
    "    \n",
    "    for recipe in page_one_recipes:\n",
    "        recipe_details = recipe.find(\"a\", class_=\"photo-link\")\n",
    "        recipeTitle = recipe_details.get(\"aria-label\")\n",
    "        recipeLink = epicuriousURL + recipe_details.get(\"href\")\n",
    "        recipeSummary_tag = recipe.find(\"header\", class_=\"summary\")\n",
    "#         authorSource_tag = recipeSummary_tag.find(\"strong\", class_=\"tag\")\n",
    "#         authorName = authorSource_tag.find(\"span\", class_=\"recipe-source\").text.replace('from ', '')\n",
    "        recipeRatingsSummary_tag = recipeSummary_tag.find(\"dl\", class_=\"recipes-ratings-summary\")\n",
    "        recipeRatingsCount = recipeRatingsSummary_tag.get(\"data-reviews-count\")\n",
    "        recipeAverageRating = recipeRatingsSummary_tag.get(\"data-reviews-rating\")\n",
    "        \n",
    "        epicurious_recipe_title_link.append((recipeTitle, recipeLink, recipeAverageRating, recipeRatingsCount))\n",
    "\n",
    "    if ((count%50) == 0):\n",
    "        epicurious_recipeLinks_df = pd.DataFrame(epicurious_recipe_title_link, columns = columns)\n",
    "\n",
    "epicurious_recipeLinks_df = pd.DataFrame(epicurious_recipe_title_link, columns = columns)\n",
    "\n",
    "end_time = time.time()\n",
    "\n",
    "total_time = end_time - start_time\n",
    "print(f\"Total Time take = {total_time} seconds\")\n",
    "# epicurious_recipeLinks_df.head()"
   ]
  },
  {
   "cell_type": "code",
   "execution_count": null,
   "id": "5d3cdc42",
   "metadata": {},
   "outputs": [],
   "source": [
    "epicurious_recipeLinks_df.to_csv('./epicuriousRecipeLinks.csv', index = None)"
   ]
  }
 ],
 "metadata": {
  "kernelspec": {
   "display_name": "Python 3 (ipykernel)",
   "language": "python",
   "name": "python3"
  },
  "language_info": {
   "codemirror_mode": {
    "name": "ipython",
    "version": 3
   },
   "file_extension": ".py",
   "mimetype": "text/x-python",
   "name": "python",
   "nbconvert_exporter": "python",
   "pygments_lexer": "ipython3",
   "version": "3.10.9"
  }
 },
 "nbformat": 4,
 "nbformat_minor": 5
}
