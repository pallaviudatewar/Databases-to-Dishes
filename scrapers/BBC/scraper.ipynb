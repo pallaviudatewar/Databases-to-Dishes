{
 "cells": [
  {
   "cell_type": "code",
   "execution_count": 9,
   "metadata": {},
   "outputs": [],
   "source": [
    "import requests\n",
    "from bs4 import BeautifulSoup \n",
    "import json \n",
    "import pandas as pd \n",
    "import selenium \n",
    "from scrape import scrape_recipe\n",
    "from tqdm import tqdm\n",
    "import time \n",
    "df = pd.DataFrame()\n",
    "\n",
    "headers = {\n",
    "    'accept': '*/*',\n",
    "    'User-Agent': 'Mozilla/5.0 (Macintosh; Intel Mac OS X 10_15_7) AppleWebKit/537.36 (KHTML, like Gecko) Chrome/101.0.4951.64 Safari/537.36 Edg/101.0.1210.53',\n",
    "    'Accept-Language': 'en-US,en;q=0.9,it;q=0.8,es;q=0.7',\n",
    "    'referer': 'https://www.google.com/',\n",
    "}"
   ]
  },
  {
   "cell_type": "code",
   "execution_count": 10,
   "metadata": {},
   "outputs": [],
   "source": [
    "base_url = 'https://www.bbcgoodfood.com/search?tab=recipe&sort=rating&page=' \n",
    "base_url_recipe = 'https://www.bbcgoodfood.com'"
   ]
  },
  {
   "cell_type": "code",
   "execution_count": 15,
   "metadata": {},
   "outputs": [
    {
     "name": "stderr",
     "output_type": "stream",
     "text": [
      "Recipes count = 9851:   9%|▉         | 67/737 [20:30<3:10:11, 17.03s/it]"
     ]
    },
    {
     "name": "stdout",
     "output_type": "stream",
     "text": [
      "Length of string 2 \n",
      " list index out of range\n"
     ]
    },
    {
     "name": "stderr",
     "output_type": "stream",
     "text": [
      "Recipes count = 9881:   9%|▉         | 68/737 [20:53<3:31:10, 18.94s/it]"
     ]
    },
    {
     "name": "stdout",
     "output_type": "stream",
     "text": [
      "Length of string 2 \n",
      " list index out of range\n"
     ]
    },
    {
     "name": "stderr",
     "output_type": "stream",
     "text": [
      "Recipes count = 9971: 100%|██████████| 737/737 [34:14<00:00,  2.79s/it] \n"
     ]
    }
   ],
   "source": [
    "\n",
    "for i in (pbar:=tqdm(range(263,1000))):\n",
    "    url = base_url+str(i)\n",
    "    page = requests.get(url , headers=headers)\n",
    "    soup = BeautifulSoup(page.text , features='lxml')\n",
    "\n",
    "    articles = (soup.find_all('article'))[:-3]\n",
    "    for article in articles:\n",
    "\n",
    "        recipe = (article.find('a')['href'])\n",
    "        recipe_link = base_url_recipe+recipe \n",
    "        try:\n",
    "            df = df.append(scrape_recipe(recipe_link) , ignore_index=True)\n",
    "        except:\n",
    "            continue\n",
    "    pbar.set_description(f'Recipes count = {len(df)}')\n",
    "    "
   ]
  },
  {
   "cell_type": "code",
   "execution_count": 18,
   "metadata": {},
   "outputs": [],
   "source": [
    "import pickle \n",
    "with open('bbc_df.pkl' , 'wb') as f: \n",
    "    pickle.dump(df , f )"
   ]
  },
  {
   "cell_type": "code",
   "execution_count": null,
   "metadata": {},
   "outputs": [],
   "source": []
  }
 ],
 "metadata": {
  "kernelspec": {
   "display_name": "Python 3",
   "language": "python",
   "name": "python3"
  },
  "language_info": {
   "codemirror_mode": {
    "name": "ipython",
    "version": 3
   },
   "file_extension": ".py",
   "mimetype": "text/x-python",
   "name": "python",
   "nbconvert_exporter": "python",
   "pygments_lexer": "ipython3",
   "version": "3.8.10 (default, Mar 13 2023, 10:26:41) \n[GCC 9.4.0]"
  },
  "orig_nbformat": 4,
  "vscode": {
   "interpreter": {
    "hash": "31f2aee4e71d21fbe5cf8b01ff0e069b9275f58929596ceb00d14d90e3e16cd6"
   }
  }
 },
 "nbformat": 4,
 "nbformat_minor": 2
}
