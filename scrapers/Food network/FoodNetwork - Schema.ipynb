{
 "cells": [
  {
   "cell_type": "markdown",
   "id": "1ea2585a",
   "metadata": {},
   "source": [
    "# Foodnetwork \n",
    "\n",
    "### www.foodnetwork.com - a food recipe website with over 14,000 recipes.\n",
    "\n",
    "This notebook performs webscraping on the foodnetwork website to collect\n",
    "\n",
    "- AuthorName\n",
    "- Recipe Title\n",
    "- Average Recipe Rating\n",
    "- Total number of Reviews\n",
    "- Ingredients used in the Recipe\n",
    "- Directions/Steps to cook the Recipe\n",
    "- Nutrition content of the Recipe per Serving\n",
    "- Time Required to Cook the Recipe\n",
    "\n",
    "The above information is collected after having scraped the webpage links of all the recipes which is stored in the - foodNetworkRecipes dataFrame - which contains information such as the Recipe Title and it's corresponding Website Link"
   ]
  },
  {
   "cell_type": "code",
   "execution_count": null,
   "id": "87638e0a",
   "metadata": {},
   "outputs": [],
   "source": [
    "import re\n",
    "import time\n",
    "import pandas as pd\n",
    "from bs4 import BeautifulSoup\n",
    "from selenium.webdriver import Chrome\n",
    "from selenium.webdriver.chrome.options import Options"
   ]
  },
  {
   "cell_type": "markdown",
   "id": "70114c98",
   "metadata": {},
   "source": [
    "#### Author Name"
   ]
  },
  {
   "cell_type": "code",
   "execution_count": null,
   "id": "bb7954da",
   "metadata": {},
   "outputs": [],
   "source": [
    "def get_authorName(doc):\n",
    "    try:\n",
    "        authorName_tag = doc.find_all(\"span\", class_=\"o-Attribution__a-Name\")[0]\n",
    "        authorName = authorName_tag.find(\"a\").text.strip()\n",
    "        return authorName\n",
    "    except:\n",
    "        authorName = ''"
   ]
  },
  {
   "cell_type": "markdown",
   "id": "10bed7fe",
   "metadata": {},
   "source": [
    "#### Recipe Title"
   ]
  },
  {
   "cell_type": "code",
   "execution_count": null,
   "id": "062e9e53",
   "metadata": {},
   "outputs": [],
   "source": [
    "def getRecipeTitle(doc):\n",
    "    try:\n",
    "        title = doc.find_all(\"h1\")[0]\n",
    "        recipeTitle = title.find_all(\"span\")[0].text.strip()\n",
    "        return recipeTitle\n",
    "    except:\n",
    "        pass"
   ]
  },
  {
   "cell_type": "markdown",
   "id": "d3fd5193",
   "metadata": {},
   "source": [
    "#### Average Recipe Rating & Review Count"
   ]
  },
  {
   "cell_type": "code",
   "execution_count": null,
   "id": "38213008",
   "metadata": {},
   "outputs": [],
   "source": [
    "def get_avgRatingAndReviews(doc):\n",
    "    try:\n",
    "        averageRating_pattern = r'\\d.\\d'\n",
    "        averageRating_of_recipe = doc.find(\"span\", class_=\"sr-only\").text\n",
    "        averageRating_match = re.findall(averageRating_pattern, averageRating_of_recipe)\n",
    "        averageRating_of_recipe = averageRating_match[0].strip()\n",
    "\n",
    "        reviewCount_pattern = r'\\d+'\n",
    "        reviewCount = doc.find(\"h2\", class_=\"reviews-ct\").text\n",
    "        reviewCount_match = re.findall(reviewCount_pattern, reviewCount)\n",
    "        reviewCount = reviewCount_match[0].strip()\n",
    "        \n",
    "        return float(averageRating_of_recipe), int(reviewCount)\n",
    "    except:\n",
    "        pass"
   ]
  },
  {
   "cell_type": "markdown",
   "id": "2dc93c41",
   "metadata": {},
   "source": [
    "#### List of Ingredients used in the Recipe"
   ]
  },
  {
   "cell_type": "code",
   "execution_count": null,
   "id": "b5080a36",
   "metadata": {},
   "outputs": [],
   "source": [
    "def get_ingredientUsedInRecipe(doc):\n",
    "    try:\n",
    "        ingredientsList = doc.find_all(\"span\", class_=\"o-Ingredients__a-Ingredient--CheckboxLabel\")\n",
    "        ingredients = []\n",
    "        for ingredient in ingredientsList:\n",
    "            ingredients.append(ingredient.text)\n",
    "        ingredients = ingredients[1:]\n",
    "        return ingredients\n",
    "    except:\n",
    "        pass"
   ]
  },
  {
   "cell_type": "markdown",
   "id": "7bd4663d",
   "metadata": {},
   "source": [
    "#### Directions/Steps to cook the Recipe"
   ]
  },
  {
   "cell_type": "code",
   "execution_count": null,
   "id": "d92efeaa",
   "metadata": {},
   "outputs": [],
   "source": [
    "def get_recipeDirection(doc):\n",
    "    try:\n",
    "        directions = doc.find_all(\"li\", class_=\"o-Method__m-Step\")\n",
    "        recipeSteps = {}\n",
    "        step = 0\n",
    "        for direction in directions:\n",
    "            step += 1 \n",
    "        #     print(step.text.strip(), '\\n')\n",
    "            recipeSteps[f'Step {step}'] = direction.text.strip()\n",
    "        return recipeSteps\n",
    "    except:\n",
    "        pass"
   ]
  },
  {
   "cell_type": "markdown",
   "id": "af5740d5",
   "metadata": {},
   "source": [
    "#### Nutrition Content of the Recipe per Serving"
   ]
  },
  {
   "cell_type": "code",
   "execution_count": null,
   "id": "37a4669a",
   "metadata": {},
   "outputs": [],
   "source": [
    "def get_nutrition(doc):\n",
    "    try:\n",
    "        nutritionTable = doc.find(\"dl\", class_=\"m-NutritionTable__a-Content\")\n",
    "        nutritionTitles = nutritionTable.find_all(\"dt\", class_=\"m-NutritionTable__a-Headline\")\n",
    "        nutritionValues = nutritionTable.find_all(\"dd\", class_=\"m-NutritionTable__a-Description\")\n",
    "\n",
    "        nutritionInfo = {}\n",
    "        for title, value in zip(nutritionTitles, nutritionValues):\n",
    "            nutritionInfo[title.string] = value.string\n",
    "        return nutritionInfo\n",
    "    except:\n",
    "        pass"
   ]
  },
  {
   "cell_type": "markdown",
   "id": "aec2dd94",
   "metadata": {},
   "source": [
    "#### Time required to cook the Recipe"
   ]
  },
  {
   "cell_type": "code",
   "execution_count": null,
   "id": "12820237",
   "metadata": {},
   "outputs": [],
   "source": [
    "def get_recipeTime(doc):\n",
    "    recipeMaking_time_info = {}\n",
    "\n",
    "    def addInfo(recipeMaking_time):\n",
    "        # Iterate over <li> tags within <ul>\n",
    "        for li_tag in recipeMaking_time.find_all('li'):\n",
    "            # Get the headline and description spans within the current <li> tag\n",
    "            headline = li_tag.find(\"span\", class_=\"o-RecipeInfo__a-Headline\").text.strip()\n",
    "            description = li_tag.find(\"span\", class_=\"o-RecipeInfo__a-Description\").text.strip()\n",
    "\n",
    "            # Add the key-value pair to the dictionary\n",
    "            recipeMaking_time_info[headline[:-1]] = description\n",
    "    try:\n",
    "        for headlines in range(0, 3):\n",
    "            recipeMaking_time = doc.find_all(\"ul\", class_=\"o-RecipeInfo__m-Time\")[headlines]\n",
    "            addInfo(recipeMaking_time)\n",
    "    except AttributeError:\n",
    "        pass\n",
    "    except IndexError:\n",
    "        pass\n",
    "\n",
    "    try:\n",
    "        for entries in range(0, 3):\n",
    "            recipeMaking_time = doc.find_all(\"ul\", class_=\"o-RecipeInfo__m-Level\")[entries]\n",
    "            addInfo(recipeMaking_time)\n",
    "    except AttributeError:\n",
    "        pass\n",
    "    except IndexError:\n",
    "        pass\n",
    "    \n",
    "    return recipeMaking_time_info"
   ]
  },
  {
   "cell_type": "code",
   "execution_count": null,
   "id": "a5ff0b9a",
   "metadata": {},
   "outputs": [],
   "source": [
    "# Read the dataset that contains information about all the recipe's webpage links\n",
    "foodNetworkRecipes_df = pd.read_csv('./foodNetworkRecipeLinks.csv')"
   ]
  },
  {
   "cell_type": "markdown",
   "id": "a1214d8a",
   "metadata": {},
   "source": [
    "#### Iterate through all the recipeLinks on Food Network and scrape the data"
   ]
  },
  {
   "cell_type": "code",
   "execution_count": null,
   "id": "b2dbee04",
   "metadata": {},
   "outputs": [],
   "source": [
    "start_time = time.time()\n",
    "\n",
    "recipeDetails = []\n",
    "columns = ['Recipe Title', 'Author Name', 'Average Rating of the Recipe', 'Number of Reviews', 'Ingredient(s)', 'Recipe Step(s)', 'Nutrition Information', 'Time to Cook the Recipe', 'Recipe Page Link']\n",
    "\n",
    "chrome_options = Options()\n",
    "chrome_options.add_argument(\"--headless\")\n",
    "driver = Chrome(options = chrome_options)\n",
    "\n",
    "count = 0\n",
    "\n",
    "for recipeLink in foodNetworkRecipes_df['Recipe Link']:\n",
    "\n",
    "    url = recipeLink\n",
    "    \n",
    "    driver.get(url)\n",
    "    html_content = driver.page_source\n",
    "    doc = BeautifulSoup(html_content, 'html.parser')\n",
    "    \n",
    "    # suspend execution for 1 second\n",
    "    time.sleep(1)\n",
    "    \n",
    "    try:\n",
    "        recipeTitle = getRecipeTitle(doc)\n",
    "        authorName = get_authorName(doc)\n",
    "        averageRating_of_recipe, reviewCount = get_avgRatingAndReviews(doc)\n",
    "        ingredients = get_ingredientUsedInRecipe(doc)\n",
    "        recipeSteps = get_recipeDirection(doc)\n",
    "        nutritionInfo = get_nutrition(doc)\n",
    "        timeToCookRecipe = get_recipeTime(doc)\n",
    "        recipePageLink = recipeLink\n",
    "\n",
    "        recipeDetails.append((recipeTitle, authorName, averageRating_of_recipe, reviewCount, ingredients, recipeSteps, nutritionInfo, timeToCookRecipe, recipePageLink))\n",
    "        \n",
    "        # Periodically save the scraped recipes to system - in the case of a crash\n",
    "        count += 1\n",
    "        \n",
    "        if ((count % 500) == 0):\n",
    "            foodNetwork_df = pd.DataFrame(recipeDetails, columns = columns)\n",
    "            foodNetwork_df.to_csv('./Food Network Recipes.csv', index = None)\n",
    "        else:\n",
    "            continue\n",
    "    \n",
    "    except TypeError:\n",
    "        print('-------------------------------------------------------')\n",
    "        print('Recipe Title: ', recipeTitle)\n",
    "        print('Recipe Link: ', recipePageLink)\n",
    "        print(f'Average Rating: {averageRating_of_recipe} Review Count = {reviewCount}')\n",
    "        \n",
    "driver.quit()\n",
    "end_time = time.time()"
   ]
  },
  {
   "cell_type": "code",
   "execution_count": null,
   "id": "179ef169",
   "metadata": {},
   "outputs": [],
   "source": [
    "foodNetwork_df = pd.DataFrame(recipeDetails, columns = columns)\n",
    "\n",
    "total_time = end_time - start_time\n",
    "print(f'Total Time = {total_time} seconds')\n",
    "\n",
    "foodNetwork_df.to_csv('./Food Network Recipes.csv', index = None)"
   ]
  }
 ],
 "metadata": {
  "kernelspec": {
   "display_name": "Python 3 (ipykernel)",
   "language": "python",
   "name": "python3"
  },
  "language_info": {
   "codemirror_mode": {
    "name": "ipython",
    "version": 3
   },
   "file_extension": ".py",
   "mimetype": "text/x-python",
   "name": "python",
   "nbconvert_exporter": "python",
   "pygments_lexer": "ipython3",
   "version": "3.10.9"
  }
 },
 "nbformat": 4,
 "nbformat_minor": 5
}
